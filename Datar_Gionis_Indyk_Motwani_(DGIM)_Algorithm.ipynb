{
  "nbformat": 4,
  "nbformat_minor": 0,
  "metadata": {
    "colab": {
      "provenance": []
    },
    "kernelspec": {
      "name": "python3",
      "display_name": "Python 3"
    },
    "language_info": {
      "name": "python"
    }
  },
  "cells": [
    {
      "cell_type": "code",
      "execution_count": 1,
      "metadata": {
        "colab": {
          "base_uri": "https://localhost:8080/"
        },
        "id": "4KCVHYX8p9p_",
        "outputId": "cc093d10-591e-49a9-ef31-571913b8696e"
      },
      "outputs": [
        {
          "output_type": "stream",
          "name": "stdout",
          "text": [
            "Estimated number of 1s in last 32 bits: 17\n",
            "Actual number of 1s in last 32 bits: 17\n"
          ]
        }
      ],
      "source": [
        "import math\n",
        "\n",
        "class DGIM:\n",
        "    def __init__(self, window_size):\n",
        "        self.window_size = window_size\n",
        "        self.max_buckets = int(math.log2(window_size)) + 2\n",
        "        self.buckets = {i: [] for i in range(self.max_buckets)}\n",
        "        self.timestamp = 0\n",
        "\n",
        "    def update(self, bit):\n",
        "        if bit == 1:\n",
        "            self.buckets[0].append(self.timestamp)\n",
        "            self._merge_buckets()\n",
        "        self.timestamp += 1\n",
        "        self._remove_old_buckets()\n",
        "\n",
        "    def _merge_buckets(self):\n",
        "        for k in range(self.max_buckets):\n",
        "            if len(self.buckets[k]) > 2:\n",
        "                # Merge the oldest two buckets\n",
        "                timestamp1 = self.buckets[k].pop(0)\n",
        "                timestamp2 = self.buckets[k].pop(0)\n",
        "                if k + 1 < self.max_buckets:\n",
        "                    self.buckets[k + 1].append(timestamp1)\n",
        "                else:\n",
        "                    # Drop if beyond max_buckets (unlikely due to window_size)\n",
        "                    pass\n",
        "\n",
        "    def _remove_old_buckets(self):\n",
        "        oldest_timestamp = self.timestamp - self.window_size\n",
        "        for k in range(self.max_buckets):\n",
        "            # Remove buckets that are outside the window\n",
        "            self.buckets[k] = [ts for ts in self.buckets[k] if ts >= oldest_timestamp]\n",
        "\n",
        "    def count_ones(self):\n",
        "        count = 0\n",
        "        for k in range(self.max_buckets):\n",
        "            if self.buckets[k]:\n",
        "                # Add 2^k for each bucket (except the last, which may be partially outside the window)\n",
        "                count += (2 ** k) * len(self.buckets[k])\n",
        "        # Adjust for the last bucket's possible partial coverage\n",
        "        if self.buckets.get(self.max_buckets - 1):\n",
        "            oldest_in_last = self.buckets[self.max_buckets - 1][0]\n",
        "            if oldest_in_last <= self.timestamp - self.window_size:\n",
        "                count -= (oldest_in_last - (self.timestamp - self.window_size)) * (2 ** (self.max_buckets - 1))\n",
        "        return count\n",
        "\n",
        "# Example Usage\n",
        "if __name__ == \"__main__\":\n",
        "    dgim = DGIM(window_size=32)  # Count 1s in the last 32 bits\n",
        "\n",
        "    # Simulate a binary stream: 1011101010101010101010101010101...\n",
        "    stream = [1,0,1,1,1,0,1,0,1,0,1,0,1,0,1,0,1,0,1,0,1,0,1,0,1,0,1,0,1,0,1]\n",
        "\n",
        "    for bit in stream:\n",
        "        dgim.update(bit)\n",
        "\n",
        "    estimated_ones = dgim.count_ones()\n",
        "    actual_ones = sum(stream[-32:])  # Last 32 bits\n",
        "\n",
        "    print(f\"Estimated number of 1s in last 32 bits: {estimated_ones}\")\n",
        "    print(f\"Actual number of 1s in last 32 bits: {actual_ones}\")"
      ]
    }
  ]
}